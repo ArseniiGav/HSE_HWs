{
 "cells": [
  {
   "cell_type": "markdown",
   "metadata": {},
   "source": [
    "# HW №1. Gavrikov Arsenii"
   ]
  },
  {
   "cell_type": "code",
   "execution_count": 1,
   "metadata": {},
   "outputs": [],
   "source": [
    "import numpy as np"
   ]
  },
  {
   "cell_type": "markdown",
   "metadata": {},
   "source": [
    "## 1. Do numpy exercises 6, 8, 9 and 19."
   ]
  },
  {
   "cell_type": "markdown",
   "metadata": {},
   "source": [
    "### exercise 6. Create a null vector of size 10 but the fifth value which is 1 (★☆☆)"
   ]
  },
  {
   "cell_type": "code",
   "execution_count": 2,
   "metadata": {},
   "outputs": [],
   "source": [
    "array_with_one = np.zeros(10)\n",
    "array_with_one[4] = 1"
   ]
  },
  {
   "cell_type": "code",
   "execution_count": 3,
   "metadata": {},
   "outputs": [
    {
     "data": {
      "text/plain": [
       "array([0., 0., 0., 0., 1., 0., 0., 0., 0., 0.])"
      ]
     },
     "execution_count": 3,
     "metadata": {},
     "output_type": "execute_result"
    }
   ],
   "source": [
    "array_with_one"
   ]
  },
  {
   "cell_type": "markdown",
   "metadata": {},
   "source": [
    "### exercise 8. Reverse a vector (first element becomes last) (★☆☆)"
   ]
  },
  {
   "cell_type": "code",
   "execution_count": 4,
   "metadata": {},
   "outputs": [
    {
     "data": {
      "text/plain": [
       "array([0, 1, 2, 3, 4, 5, 6, 7, 8, 9])"
      ]
     },
     "execution_count": 4,
     "metadata": {},
     "output_type": "execute_result"
    }
   ],
   "source": [
    "vector = np.arange(10)\n",
    "vector"
   ]
  },
  {
   "cell_type": "code",
   "execution_count": 5,
   "metadata": {},
   "outputs": [
    {
     "data": {
      "text/plain": [
       "array([9, 8, 7, 6, 5, 4, 3, 2, 1, 0])"
      ]
     },
     "execution_count": 5,
     "metadata": {},
     "output_type": "execute_result"
    }
   ],
   "source": [
    "vector[::-1] #classic method. But!"
   ]
  },
  {
   "cell_type": "code",
   "execution_count": 6,
   "metadata": {},
   "outputs": [
    {
     "data": {
      "text/plain": [
       "array([0, 1, 2, 3, 4, 5, 6, 7, 8, 9])"
      ]
     },
     "execution_count": 6,
     "metadata": {},
     "output_type": "execute_result"
    }
   ],
   "source": [
    "vector.T #We can transpose 1D array"
   ]
  },
  {
   "cell_type": "code",
   "execution_count": 7,
   "metadata": {},
   "outputs": [
    {
     "data": {
      "text/plain": [
       "array([9, 8, 7, 6, 5, 4, 3, 2, 1, 0])"
      ]
     },
     "execution_count": 7,
     "metadata": {},
     "output_type": "execute_result"
    }
   ],
   "source": [
    "np.flip(vector) #and flip it"
   ]
  },
  {
   "cell_type": "markdown",
   "metadata": {},
   "source": [
    "### exercise 9. Create a 3x3 matrix with values ranging from 0 to 8 (★☆☆)"
   ]
  },
  {
   "cell_type": "code",
   "execution_count": 8,
   "metadata": {},
   "outputs": [
    {
     "data": {
      "text/plain": [
       "array([[0, 1, 2],\n",
       "       [3, 4, 5],\n",
       "       [6, 7, 8]])"
      ]
     },
     "execution_count": 8,
     "metadata": {},
     "output_type": "execute_result"
    }
   ],
   "source": [
    "np.array(range(0, 9)).reshape(3,3)"
   ]
  },
  {
   "cell_type": "markdown",
   "metadata": {},
   "source": [
    "### exercise 19. Create a 8x8 matrix and fill it with a checkerboard pattern (★☆☆)"
   ]
  },
  {
   "cell_type": "code",
   "execution_count": 9,
   "metadata": {},
   "outputs": [],
   "source": [
    "array = np.ones((8,8))"
   ]
  },
  {
   "cell_type": "code",
   "execution_count": 10,
   "metadata": {},
   "outputs": [],
   "source": [
    "array[1::2,::2] = 0\n",
    "array[::2,1::2] = 0"
   ]
  },
  {
   "cell_type": "code",
   "execution_count": 11,
   "metadata": {},
   "outputs": [
    {
     "data": {
      "text/plain": [
       "array([[1., 0., 1., 0., 1., 0., 1., 0.],\n",
       "       [0., 1., 0., 1., 0., 1., 0., 1.],\n",
       "       [1., 0., 1., 0., 1., 0., 1., 0.],\n",
       "       [0., 1., 0., 1., 0., 1., 0., 1.],\n",
       "       [1., 0., 1., 0., 1., 0., 1., 0.],\n",
       "       [0., 1., 0., 1., 0., 1., 0., 1.],\n",
       "       [1., 0., 1., 0., 1., 0., 1., 0.],\n",
       "       [0., 1., 0., 1., 0., 1., 0., 1.]])"
      ]
     },
     "execution_count": 11,
     "metadata": {},
     "output_type": "execute_result"
    }
   ],
   "source": [
    "array"
   ]
  },
  {
   "cell_type": "markdown",
   "metadata": {},
   "source": [
    "## 2. numpy exercise 44."
   ]
  },
  {
   "cell_type": "markdown",
   "metadata": {},
   "source": [
    "### exercise 44. Consider a random 10x2 matrix representing cartesian coordinates, convert them to polar coordinates (★★☆)"
   ]
  },
  {
   "cell_type": "code",
   "execution_count": 12,
   "metadata": {},
   "outputs": [],
   "source": [
    "matrix = np.linspace(-5, 5, 20).reshape(10, 2)"
   ]
  },
  {
   "cell_type": "code",
   "execution_count": 13,
   "metadata": {},
   "outputs": [
    {
     "data": {
      "text/plain": [
       "array([[-5.        , -4.47368421],\n",
       "       [-3.94736842, -3.42105263],\n",
       "       [-2.89473684, -2.36842105],\n",
       "       [-1.84210526, -1.31578947],\n",
       "       [-0.78947368, -0.26315789],\n",
       "       [ 0.26315789,  0.78947368],\n",
       "       [ 1.31578947,  1.84210526],\n",
       "       [ 2.36842105,  2.89473684],\n",
       "       [ 3.42105263,  3.94736842],\n",
       "       [ 4.47368421,  5.        ]])"
      ]
     },
     "execution_count": 13,
     "metadata": {},
     "output_type": "execute_result"
    }
   ],
   "source": [
    "matrix"
   ]
  },
  {
   "cell_type": "markdown",
   "metadata": {},
   "source": [
    "polar system:\n",
    "\n",
    "$y = r \\cdot sin(\\phi)$\n",
    "\n",
    "$x = r \\cdot cos(\\phi)$\n",
    "\n",
    "and \n",
    "\n",
    "$r = \\sqrt{x^2 + y^2}$\n",
    "\n",
    "$\\phi = atan2(y, x)$"
   ]
  },
  {
   "cell_type": "code",
   "execution_count": 14,
   "metadata": {},
   "outputs": [],
   "source": [
    "x = matrix[:, 0]\n",
    "y = matrix[:, 1]"
   ]
  },
  {
   "cell_type": "code",
   "execution_count": 15,
   "metadata": {},
   "outputs": [],
   "source": [
    "r = (x**2 + y**2)**0.5\n",
    "phi = np.arctan2(y, x)"
   ]
  },
  {
   "cell_type": "markdown",
   "metadata": {},
   "source": [
    "## 3. A snail curve is defined by the following equation in polar coordinates:  r=a+cosϕ . Plot the curve on an  x - y  plane for several values of  a . (Hint: np.linspace creates a linearly spaced array of values)"
   ]
  },
  {
   "cell_type": "markdown",
   "metadata": {},
   "source": [
    "### equation:  $r = a + cos(\\phi)$"
   ]
  },
  {
   "cell_type": "code",
   "execution_count": 16,
   "metadata": {},
   "outputs": [
    {
     "data": {
      "image/png": "[encoded data removed]",
      "text/plain": [
       "<Figure size 432x288 with 1 Axes>"
      ]
     },
     "metadata": {
      "needs_background": "light"
     },
     "output_type": "display_data"
    }
   ],
   "source": [
    "import matplotlib.pyplot as plt\n",
    "\n",
    "phi = np.linspace(-2*np.pi, 2*np.pi, 100)\n",
    "phi = phi[phi != 0]\n",
    "\n",
    "a_array = np.array([0, 0.5, 1, 2.5])\n",
    "\n",
    "for a in a_array:\n",
    "    r = a + np.cos(phi)\n",
    "\n",
    "    x = r*np.cos(phi)\n",
    "    y = r*np.sin(phi)\n",
    "\n",
    "    plt.plot(x, y)\n",
    "    plt.legend(a_array)"
   ]
  },
  {
   "cell_type": "markdown",
   "metadata": {},
   "source": [
    "##  4. cochleoid curve is defined by the following equation in polar coordinates:  $r=a\\frac{sinϕ}{ϕ}$ . Plot the curve on an  x - y  plane. (This time, use np.where to work around division by zero)."
   ]
  },
  {
   "cell_type": "code",
   "execution_count": 17,
   "metadata": {},
   "outputs": [
    {
     "data": {
      "image/png": "[encoded data removed]",
      "text/plain": [
       "<Figure size 432x288 with 1 Axes>"
      ]
     },
     "metadata": {
      "needs_background": "light"
     },
     "output_type": "display_data"
    }
   ],
   "source": [
    "phi = np.linspace(-2*np.pi, 2*np.pi, 100)\n",
    "phi = phi[np.where(phi!=0)]\n",
    "\n",
    "a_array = np.array([0.5, 1])\n",
    "\n",
    "for a in a_array:\n",
    "    r = a*np.sin(phi)/phi\n",
    "\n",
    "    x = r*np.cos(phi)\n",
    "    y = r*np.sin(phi)\n",
    "\n",
    "    plt.plot(x, y)\n",
    "    plt.legend(a_array)"
   ]
  },
  {
   "cell_type": "markdown",
   "metadata": {},
   "source": [
    "## 5. Given two arrays, u and v, construct the Cauchy matrix using 1) explicit broadcasting, and 2) subtract.outer attribute."
   ]
  },
  {
   "cell_type": "markdown",
   "metadata": {},
   "source": [
    "### Cauchy matrix: $C_{jk} = \\frac{1}{u_{j} - v_{k}}$"
   ]
  },
  {
   "cell_type": "code",
   "execution_count": 18,
   "metadata": {},
   "outputs": [
    {
     "data": {
      "text/plain": [
       "array([[-2.        , -0.66666667, -0.4       ],\n",
       "       [ 2.        , -2.        , -0.66666667],\n",
       "       [ 0.66666667,  2.        , -2.        ]])"
      ]
     },
     "execution_count": 18,
     "metadata": {},
     "output_type": "execute_result"
    }
   ],
   "source": [
    "u = np.arange(3)\n",
    "v = u + 0.5\n",
    "\n",
    "C = 1 / (u[:, None] - v[None, :])\n",
    "    \n",
    "C"
   ]
  },
  {
   "cell_type": "code",
   "execution_count": 19,
   "metadata": {},
   "outputs": [],
   "source": [
    "#or"
   ]
  },
  {
   "cell_type": "code",
   "execution_count": 20,
   "metadata": {},
   "outputs": [
    {
     "data": {
      "text/plain": [
       "array([[-2.        , -0.66666667, -0.4       ],\n",
       "       [ 2.        , -2.        , -0.66666667],\n",
       "       [ 0.66666667,  2.        , -2.        ]])"
      ]
     },
     "execution_count": 20,
     "metadata": {},
     "output_type": "execute_result"
    }
   ],
   "source": [
    "u = np.arange(3)\n",
    "v = u + 0.5\n",
    "\n",
    "C = 1 / (u.reshape(u.shape[0], -1) - v.reshape(1, -1))\n",
    "    \n",
    "C"
   ]
  },
  {
   "cell_type": "code",
   "execution_count": 21,
   "metadata": {},
   "outputs": [],
   "source": [
    "#or"
   ]
  },
  {
   "cell_type": "code",
   "execution_count": 22,
   "metadata": {},
   "outputs": [
    {
     "data": {
      "text/plain": [
       "array([[-2.        , -0.66666667, -0.4       ],\n",
       "       [ 2.        , -2.        , -0.66666667],\n",
       "       [ 0.66666667,  2.        , -2.        ]])"
      ]
     },
     "execution_count": 22,
     "metadata": {},
     "output_type": "execute_result"
    }
   ],
   "source": [
    "1. / np.subtract.outer(u, v)"
   ]
  },
  {
   "cell_type": "markdown",
   "metadata": {},
   "source": [
    "## 6. numpy exercise 58."
   ]
  },
  {
   "cell_type": "markdown",
   "metadata": {},
   "source": [
    "### 58. Subtract the mean of each row of a matrix (★★☆)"
   ]
  },
  {
   "cell_type": "code",
   "execution_count": 23,
   "metadata": {},
   "outputs": [],
   "source": [
    "matrix = np.random.rand(42).reshape(7, 6)"
   ]
  },
  {
   "cell_type": "code",
   "execution_count": 24,
   "metadata": {},
   "outputs": [
    {
     "data": {
      "text/plain": [
       "array([[-0.11169423,  0.27648321,  0.24013924, -0.30823219, -0.06863043,\n",
       "        -0.02806561],\n",
       "       [-0.49408103,  0.41924354,  0.39794512, -0.31020478,  0.03097954,\n",
       "        -0.04388239],\n",
       "       [-0.11011399,  0.12606629,  0.05704163, -0.03627642, -0.17858102,\n",
       "         0.1418635 ],\n",
       "       [-0.30205893,  0.04718762, -0.03962465, -0.32330298,  0.24577788,\n",
       "         0.37202106],\n",
       "       [-0.09497398,  0.34218552, -0.33277311, -0.08003479,  0.26456859,\n",
       "        -0.09897222],\n",
       "       [ 0.13031985, -0.02714056, -0.20930054,  0.24869875, -0.03379053,\n",
       "        -0.10878697],\n",
       "       [ 0.35394926,  0.05379504, -0.0335925 , -0.14495343, -0.24028898,\n",
       "         0.0110906 ]])"
      ]
     },
     "execution_count": 24,
     "metadata": {},
     "output_type": "execute_result"
    }
   ],
   "source": [
    "matrix - matrix.mean(axis=1, keepdims=True)"
   ]
  },
  {
   "cell_type": "code",
   "execution_count": 25,
   "metadata": {},
   "outputs": [],
   "source": [
    "for i in range(matrix.shape[0]):\n",
    "    matrix[i, :] -= matrix[i, :].mean()"
   ]
  },
  {
   "cell_type": "code",
   "execution_count": 26,
   "metadata": {},
   "outputs": [
    {
     "data": {
      "text/plain": [
       "array([[-0.11169423,  0.27648321,  0.24013924, -0.30823219, -0.06863043,\n",
       "        -0.02806561],\n",
       "       [-0.49408103,  0.41924354,  0.39794512, -0.31020478,  0.03097954,\n",
       "        -0.04388239],\n",
       "       [-0.11011399,  0.12606629,  0.05704163, -0.03627642, -0.17858102,\n",
       "         0.1418635 ],\n",
       "       [-0.30205893,  0.04718762, -0.03962465, -0.32330298,  0.24577788,\n",
       "         0.37202106],\n",
       "       [-0.09497398,  0.34218552, -0.33277311, -0.08003479,  0.26456859,\n",
       "        -0.09897222],\n",
       "       [ 0.13031985, -0.02714056, -0.20930054,  0.24869875, -0.03379053,\n",
       "        -0.10878697],\n",
       "       [ 0.35394926,  0.05379504, -0.0335925 , -0.14495343, -0.24028898,\n",
       "         0.0110906 ]])"
      ]
     },
     "execution_count": 26,
     "metadata": {},
     "output_type": "execute_result"
    }
   ],
   "source": [
    "matrix #the same"
   ]
  },
  {
   "cell_type": "markdown",
   "metadata": {},
   "source": [
    "## 7. See \"Monte Carlo Error propagation\" (separate html)"
   ]
  },
  {
   "cell_type": "markdown",
   "metadata": {},
   "source": [
    "#### Use the standard error propagation rules to determine the resulting force and uncertainty in your script (you can just derive the equation by hand and implement it in a single line in your code)."
   ]
  },
  {
   "cell_type": "markdown",
   "metadata": {},
   "source": [
    "### $F = \\frac{GM_{1}M_{2}}{r^{2}}$\n",
    "We will use following equation:\n",
    "### $\\sigma_{F} = \\sqrt{\\sigma_{M_{1}}^{2}\\left(\\frac{M_{2}G}{r^{2}}\\right)^{2} + \\sigma_{M_{2}}^{2}\\left(\\frac{M_{1}G}{r^{2}}\\right)^{2} + \\sigma_{r}^{2} \\left(\\frac{-2M_{1}M_{2}G}{r^{3}}\\right)^{2}}$\n",
    "\n",
    "where:\n",
    "\n",
    "$M_{1} = (40 \\pm 0.05) \\cdot 10^{4} kg$\n",
    "\n",
    "$M_{2} = (30 \\pm 0.1) \\cdot 10^{4} kg$\n",
    "\n",
    "$r = 3.2 \\pm 0.01 \\ m $\n",
    "\n",
    "$G = 6.67384 \\cdot 10^{-11} \\ m^{3}⋅kg^{-1}⋅s^{-2}$"
   ]
  },
  {
   "cell_type": "code",
   "execution_count": 27,
   "metadata": {},
   "outputs": [],
   "source": [
    "M1 = 40e4\n",
    "M2 = 30e4\n",
    "r = 3.2\n",
    "\n",
    "sigma_M1 = 0.05e4\n",
    "sigma_M2 = 0.1e4\n",
    "sigma_r = 0.01\n",
    "\n",
    "G = 6.67384e-11"
   ]
  },
  {
   "cell_type": "code",
   "execution_count": 28,
   "metadata": {},
   "outputs": [],
   "source": [
    "F = G*M1*M2/r**2"
   ]
  },
  {
   "cell_type": "code",
   "execution_count": 29,
   "metadata": {},
   "outputs": [],
   "source": [
    "sigma_F = (sigma_M1**2*(M2*G/r**2)**2 + sigma_M2**2*(M1*G/r**2)**2 + sigma_r**2*(-2*M2*M1*G/r**3)**2)**0.5"
   ]
  },
  {
   "cell_type": "code",
   "execution_count": 30,
   "metadata": {},
   "outputs": [
    {
     "name": "stdout",
     "output_type": "stream",
     "text": [
      "F: 0.7820906249999999\n",
      "Error: 0.005625407272639265\n",
      "%: 0.7192781875680028\n"
     ]
    }
   ],
   "source": [
    "print('F: {}'.format(F))\n",
    "print('Error: {}'.format(sigma_F))\n",
    "print('%: {}'.format(sigma_F/F * 100))"
   ]
  },
  {
   "cell_type": "markdown",
   "metadata": {},
   "source": [
    "## Now, we can try using a Monte-Carlo technique instead."
   ]
  },
  {
   "cell_type": "code",
   "execution_count": 31,
   "metadata": {},
   "outputs": [],
   "source": [
    "import scipy"
   ]
  },
  {
   "cell_type": "code",
   "execution_count": 32,
   "metadata": {},
   "outputs": [],
   "source": [
    "def F_fun(M1, M2, r, G):\n",
    "    return G*M1*M2/r**2"
   ]
  },
  {
   "cell_type": "code",
   "execution_count": 33,
   "metadata": {},
   "outputs": [],
   "source": [
    "N = 1000000\n",
    "M1_array=np.random.normal(M1, sigma_M1, N)\n",
    "M2_array=np.random.normal(M2, sigma_M2, N)\n",
    "r_array=np.random.normal(r, sigma_r, N)\n",
    "\n",
    "F_array = F_fun(M1_array, M2_array, r_array, G)"
   ]
  },
  {
   "cell_type": "code",
   "execution_count": 34,
   "metadata": {},
   "outputs": [
    {
     "name": "stdout",
     "output_type": "stream",
     "text": [
      "F: 0.7821145379477732\n",
      "Error: 0.0056268249138343015\n",
      "%: 0.7194374533171048\n"
     ]
    }
   ],
   "source": [
    "print('F: {}'.format(F_array.mean()))\n",
    "print('Error: {}'.format(F_array.std()))\n",
    "print('%: {}'.format(F_array.std()/F_array.mean() * 100))"
   ]
  },
  {
   "cell_type": "code",
   "execution_count": 35,
   "metadata": {},
   "outputs": [],
   "source": [
    "from scipy import stats"
   ]
  },
  {
   "cell_type": "code",
   "execution_count": 36,
   "metadata": {},
   "outputs": [],
   "source": [
    "x = np.linspace(F_array.min(), F_array.max(), 100)\n",
    "p = stats.norm.pdf(x, F, sigma_F)"
   ]
  },
  {
   "cell_type": "code",
   "execution_count": 37,
   "metadata": {},
   "outputs": [
    {
     "data": {
      "image/png": "[encoded data removed]",
      "text/plain": [
       "<Figure size 432x288 with 1 Axes>"
      ]
     },
     "metadata": {
      "needs_background": "light"
     },
     "output_type": "display_data"
    }
   ],
   "source": [
    "plt.plot(x, p)\n",
    "plt.hist(F_array, bins=(100),density=True)\n",
    "plt.show()"
   ]
  },
  {
   "cell_type": "markdown",
   "metadata": {},
   "source": [
    "## Part 2"
   ]
  },
  {
   "cell_type": "markdown",
   "metadata": {},
   "source": [
    "$M_{1} = (40 \\pm 2) \\cdot 10^{4} kg$\n",
    "\n",
    "$M_{2} = (30 \\pm 10) \\cdot 10^{4} kg$\n",
    "\n",
    "$r = 3.2 \\pm 0.5 \\ m $\n",
    "\n",
    "$G = 6.67384 \\cdot 10^{-11} \\ m^{3}⋅kg^{-1}⋅s^{-2}$"
   ]
  },
  {
   "cell_type": "code",
   "execution_count": 120,
   "metadata": {},
   "outputs": [],
   "source": [
    "M1 = 40e4\n",
    "M2 = 30e4\n",
    "r = 3.2\n",
    "\n",
    "sigma_M1 = 2e4\n",
    "sigma_M2 = 10e4\n",
    "sigma_r = 0.5\n",
    "\n",
    "G = 6.67384e-11"
   ]
  },
  {
   "cell_type": "code",
   "execution_count": 110,
   "metadata": {},
   "outputs": [],
   "source": [
    "F = G*M1*M2/r**2"
   ]
  },
  {
   "cell_type": "code",
   "execution_count": 111,
   "metadata": {},
   "outputs": [],
   "source": [
    "sigma_F = (sigma_M1**2*(M2*G/r**2)**2 + sigma_M2**2*(M1*G/r**2)**2 + sigma_r**2*(-2*M2*M1*G/r**3)**2)**0.5"
   ]
  },
  {
   "cell_type": "code",
   "execution_count": 112,
   "metadata": {},
   "outputs": [
    {
     "name": "stdout",
     "output_type": "stream",
     "text": [
      "F: 0.7820906249999999\n",
      "Error: 0.3594788004581387\n",
      "%: 45.963829378230784\n"
     ]
    }
   ],
   "source": [
    "print('F: {}'.format(F))\n",
    "print('Error: {}'.format(sigma_F))\n",
    "print('%: {}'.format(sigma_F/F * 100))"
   ]
  },
  {
   "cell_type": "code",
   "execution_count": 113,
   "metadata": {},
   "outputs": [],
   "source": [
    "N = 1000000\n",
    "M1_array=np.random.normal(M1, sigma_M1, N)\n",
    "M2_array=np.random.normal(M2, sigma_M2, N)\n",
    "r_array=np.random.normal(r, sigma_r, N)\n",
    "\n",
    "F_array = F_fun(M1_array, M2_array, r_array, G)"
   ]
  },
  {
   "cell_type": "code",
   "execution_count": 114,
   "metadata": {},
   "outputs": [
    {
     "name": "stdout",
     "output_type": "stream",
     "text": [
      "F: 0.8481876189293202\n",
      "Error: 0.43790533229110395\n",
      "%: 51.62835704249944\n"
     ]
    }
   ],
   "source": [
    "print('F: {}'.format(F_array.mean()))\n",
    "print('Error: {}'.format(F_array.std()))\n",
    "print('%: {}'.format(F_array.std()/F_array.mean() * 100))"
   ]
  },
  {
   "cell_type": "code",
   "execution_count": 125,
   "metadata": {},
   "outputs": [],
   "source": [
    "x = np.linspace(F_array.min(), F_array.max(), 200)\n",
    "p = stats.norm.pdf(x, F, sigma_F)"
   ]
  },
  {
   "cell_type": "code",
   "execution_count": 127,
   "metadata": {},
   "outputs": [
    {
     "data": {
      "image/png": "[encoded data removed]",
      "text/plain": [
       "<Figure size 432x288 with 1 Axes>"
      ]
     },
     "metadata": {
      "needs_background": "light"
     },
     "output_type": "display_data"
    }
   ],
   "source": [
    "plt.plot(x, p)\n",
    "plt.hist(F_array, bins=(200),density=True)\n",
    "plt.xlim(-1, 3)\n",
    "plt.show()"
   ]
  },
  {
   "cell_type": "markdown",
   "metadata": {},
   "source": [
    "#### In this case, which method do you think is more accurate? Why? What do you think are the advantages of using a Monte-Carlo technique?\n",
    "\n"
   ]
  },
  {
   "cell_type": "markdown",
   "metadata": {},
   "source": [
    "I think that the first method works more accurately, but Monte-Carlo technique we can use in cases where we cannot, for some reason, take the partial derivative. "
   ]
  },
  {
   "cell_type": "code",
   "execution_count": null,
   "metadata": {},
   "outputs": [],
   "source": []
  }
 ],
 "metadata": {
  "kernelspec": {
   "display_name": "Python 3",
   "language": "python",
   "name": "python3"
  },
  "language_info": {
   "codemirror_mode": {
    "name": "ipython",
    "version": 3
   },
   "file_extension": ".py",
   "mimetype": "text/x-python",
   "name": "python",
   "nbconvert_exporter": "python",
   "pygments_lexer": "ipython3",
   "version": "3.7.7"
  }
 },
 "nbformat": 4,
 "nbformat_minor": 4
}
