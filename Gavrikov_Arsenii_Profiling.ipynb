{
 "cells": [
  {
   "cell_type": "markdown",
   "metadata": {
    "id": "dfD_72QEtxFC"
   },
   "source": [
    "# Program optimization\n",
    "\n",
    "So, you have a program, which implements an algorithm. It works. Results make sense. You have a suite of tests with reasonable coverage. \n",
    "\n",
    "The only *slight* problem is your program is slow. Sloth slow. You want to improve performance, i.e. optimize the program.\n",
    "\n",
    "\n",
    "**Fact:** Whenever you try to guess what is slow in your program, **you guess wrong.**"
   ]
  },
  {
   "cell_type": "markdown",
   "metadata": {
    "id": "302n2uOntxFD"
   },
   "source": [
    "## The optimization loop\n",
    "\n",
    "1. Profile the program. Identify the hotspots.\n",
    "\n",
    "2. Optimize the bottleneck. *Only* touch the bottleneck, nothing else.\n",
    "\n",
    "3. Verify that the program still works (**tests!**)\n",
    "\n",
    "4. Measure the execution time. \n",
    "\n",
    "5. Goto 1."
   ]
  },
  {
   "cell_type": "markdown",
   "metadata": {
    "id": "QeSHRGN2txFD"
   },
   "source": [
    "## Profiling\n",
    "\n",
    "e.g. GNU `gprof`, `ccachegrind`, `google-perftools`, `yep`, ..."
   ]
  },
  {
   "cell_type": "markdown",
   "metadata": {
    "id": "8gzPCHA3txFD"
   },
   "source": [
    "In Python, use the `cProfile` module from the standard library for the function-level profiling. \n",
    "In Jupyter, there's a convenince magic, `%prun`."
   ]
  },
  {
   "cell_type": "markdown",
   "metadata": {
    "id": "BLpBpS_StxFD"
   },
   "source": [
    "As an example, we consider the adaptive integration scheme from a couple of weeks back."
   ]
  },
  {
   "cell_type": "code",
   "execution_count": 1,
   "metadata": {
    "id": "Hg_SiT2ytxFE"
   },
   "outputs": [],
   "source": [
    "import numpy as np"
   ]
  },
  {
   "cell_type": "code",
   "execution_count": 2,
   "metadata": {
    "id": "oC0rAel8txFE"
   },
   "outputs": [],
   "source": [
    "# A rectangle is (start, width)\n",
    "# A list element is (-weight, (start, width))\n",
    "\n",
    "def make_rect(a, b, f):\n",
    "    \"\"\"Make a rectangle for the interval [a, b]\"\"\"\n",
    "    rect = (a, b-a)\n",
    "    xm = a + rect[1] / 2.\n",
    "    return (-f(xm) * rect[1], rect)\n",
    "    \n",
    "\n",
    "def get_max_elem(lst, key=None):\n",
    "    \"\"\"Find and remove the maximum element from the list.\n",
    "    \n",
    "    Find the max element (according to the parameter `key`,\n",
    "    which is a callable), remove it from the list, and\n",
    "    return both the element and the rest.\n",
    "    \"\"\"\n",
    "    if key is None:\n",
    "        # use the identity function\n",
    "        key = lambda x: x\n",
    "    \n",
    "    # find the max element\n",
    "    elem = max(lst, key=key)\n",
    "    \n",
    "    # find its position in the list\n",
    "    idx = lst.index(elem)\n",
    "    \n",
    "    return elem, lst[:idx] + lst[idx+1:]\n",
    "\n",
    "    \n",
    "def adapt_rect_list(f, a, b, npts):\n",
    "    \"\"\"Integrate f(x) from a to b using npts steps.\n",
    "    \n",
    "    Uses an adaptive algorithm.\n",
    "    \"\"\"\n",
    "    lst = []\n",
    "\n",
    "    # start from a single rectangle\n",
    "    item = make_rect(a, b, f)\n",
    "    lst.append(item)\n",
    "    \n",
    "    # loop\n",
    "    for _ in range(npts):\n",
    "        # get the largest one\n",
    "        rect, lst = get_max_elem(lst, lambda x: -x[0])\n",
    "        w, (start, width) = rect\n",
    "                \n",
    "        # and split it into two halves\n",
    "        c = start + width / 2.\n",
    "        \n",
    "        rect1 = make_rect(start, c, f)\n",
    "        rect2 = make_rect(c, start + width, f)\n",
    "        \n",
    "        lst.append(rect1)\n",
    "        lst.append(rect2)\n",
    "        \n",
    "    # collect the answer\n",
    "    return -sum(w for w, r in lst), lst"
   ]
  },
  {
   "cell_type": "code",
   "execution_count": 3,
   "metadata": {
    "id": "RwTHJ7vdtxFE"
   },
   "outputs": [],
   "source": [
    "def func(x):\n",
    "    return np.tan(x) / (1.0 + np.exp(x))\n",
    "\n",
    "a, b = 0, 10"
   ]
  },
  {
   "cell_type": "code",
   "execution_count": 4,
   "metadata": {
    "colab": {
     "base_uri": "https://localhost:8080/"
    },
    "id": "JLCdrA6qtxFE",
    "outputId": "b69b34c0-2fa3-4557-f662-b7e30cb76194"
   },
   "outputs": [
    {
     "name": "stdout",
     "output_type": "stream",
     "text": [
      " "
     ]
    }
   ],
   "source": [
    "# this opens a profile in the Jupyter's pager\n",
    "\n",
    "%prun adapt_rect_list(func, a, b, npts=1000)"
   ]
  },
  {
   "cell_type": "code",
   "execution_count": 5,
   "metadata": {
    "colab": {
     "base_uri": "https://localhost:8080/"
    },
    "id": "MBeelmPEtxFG",
    "outputId": "19a8e1b0-c694-4dad-d0a6-d0977d899b7e"
   },
   "outputs": [
    {
     "name": "stdout",
     "output_type": "stream",
     "text": [
      "          12552510 function calls in 4.360 seconds\n",
      "\n",
      "   Ordered by: internal time\n",
      "\n",
      "   ncalls  tottime  percall  cumtime  percall filename:lineno(function)\n",
      "     5000    2.819    0.001    4.087    0.001 {built-in method builtins.max}\n",
      " 12502500    1.268    0.000    1.268    0.000 <ipython-input-2-d80a194c1915>:45(<lambda>)\n",
      "     5000    0.152    0.000    4.244    0.001 <ipython-input-2-d80a194c1915>:11(get_max_elem)\n",
      "        1    0.049    0.049    4.359    4.359 <ipython-input-2-d80a194c1915>:31(adapt_rect_list)\n",
      "    10001    0.047    0.000    0.047    0.000 <ipython-input-3-0da83198508c>:1(func)\n",
      "    10001    0.011    0.000    0.058    0.000 <ipython-input-2-d80a194c1915>:4(make_rect)\n",
      "    10001    0.006    0.000    0.006    0.000 {method 'append' of 'list' objects}\n",
      "     5000    0.005    0.000    0.005    0.000 {method 'index' of 'list' objects}\n",
      "        1    0.001    0.001    0.002    0.002 {built-in method builtins.sum}\n",
      "        1    0.001    0.001    4.360    4.360 <string>:1(<module>)\n",
      "     5002    0.001    0.000    0.001    0.000 <ipython-input-2-d80a194c1915>:58(<genexpr>)\n",
      "        1    0.000    0.000    4.360    4.360 {built-in method builtins.exec}\n",
      "        1    0.000    0.000    0.000    0.000 {method 'disable' of '_lsprof.Profiler' objects}\n",
      "\n",
      "\n"
     ]
    },
    {
     "data": {
      "text/plain": [
       "<pstats.Stats at 0x1460da11888>"
      ]
     },
     "execution_count": 5,
     "metadata": {},
     "output_type": "execute_result"
    }
   ],
   "source": [
    "# alternatively, save the `pstats.Stats` object and manipulate it \n",
    "\n",
    "stats = %prun -r -q adapt_rect_list(func, a, b, npts=5000)\n",
    "\n",
    "stats.print_stats(20)"
   ]
  },
  {
   "cell_type": "markdown",
   "metadata": {
    "id": "wS1wjkpqtxFG"
   },
   "source": [
    "## Line level profiling"
   ]
  },
  {
   "cell_type": "markdown",
   "metadata": {
    "id": "PhczI5cxtxFG"
   },
   "source": [
    "In python land, use the `line_profiler` module. It's not in the standard library, so we need to install it. Open the `Anaconda prompt`, then type `conda install line_profiler`.\n",
    "\n",
    "If using `pip`, type `pip install line_profiler --user`.\n",
    "\n",
    "There also is an associated Jupyter magic. For using it outside of Jupyter, consult the [documentation: https://github.com/rkern/line_profiler.](https://github.com/rkern/line_profiler)"
   ]
  },
  {
   "cell_type": "code",
   "execution_count": 6,
   "metadata": {
    "id": "arctumAhtxFG"
   },
   "outputs": [],
   "source": [
    "%load_ext line_profiler"
   ]
  },
  {
   "cell_type": "code",
   "execution_count": 7,
   "metadata": {
    "id": "0HpvdmfFtxFG"
   },
   "outputs": [],
   "source": [
    "# note that we need to give it the name of the function to profile via a `-f` switch\n",
    "\n",
    "%lprun -f adapt_rect_list adapt_rect_list(func, a, b, 1000)"
   ]
  },
  {
   "cell_type": "code",
   "execution_count": 8,
   "metadata": {
    "colab": {
     "base_uri": "https://localhost:8080/"
    },
    "id": "SLRxL3U2txFH",
    "outputId": "caa4fa8b-37b2-4c3e-96e0-caba8676ae50"
   },
   "outputs": [
    {
     "name": "stdout",
     "output_type": "stream",
     "text": [
      "Timer unit: 1e-07 s\n",
      "\n",
      "Total time: 0.289059 s\n",
      "File: <ipython-input-2-d80a194c1915>\n",
      "Function: adapt_rect_list at line 31\n",
      "\n",
      "Line #      Hits         Time  Per Hit   % Time  Line Contents\n",
      "==============================================================\n",
      "    31                                           def adapt_rect_list(f, a, b, npts):\n",
      "    32                                               \"\"\"Integrate f(x) from a to b using npts steps.\n",
      "    33                                               \n",
      "    34                                               Uses an adaptive algorithm.\n",
      "    35                                               \"\"\"\n",
      "    36         1         18.0     18.0      0.0      lst = []\n",
      "    37                                           \n",
      "    38                                               # start from a single rectangle\n",
      "    39         1        255.0    255.0      0.0      item = make_rect(a, b, f)\n",
      "    40         1         11.0     11.0      0.0      lst.append(item)\n",
      "    41                                               \n",
      "    42                                               # loop\n",
      "    43      1001       8425.0      8.4      0.3      for _ in range(npts):\n",
      "    44                                                   # get the largest one\n",
      "    45      1000    2625590.0   2625.6     90.8          rect, lst = get_max_elem(lst, lambda x: -x[0])\n",
      "    46      1000      21050.0     21.1      0.7          w, (start, width) = rect\n",
      "    47                                                           \n",
      "    48                                                   # and split it into two halves\n",
      "    49      1000      12229.0     12.2      0.4          c = start + width / 2.\n",
      "    50                                                   \n",
      "    51      1000     116652.0    116.7      4.0          rect1 = make_rect(start, c, f)\n",
      "    52      1000      62169.0     62.2      2.2          rect2 = make_rect(c, start + width, f)\n",
      "    53                                                   \n",
      "    54      1000      27949.0     27.9      1.0          lst.append(rect1)\n",
      "    55      1000       8997.0      9.0      0.3          lst.append(rect2)\n",
      "    56                                                   \n",
      "    57                                               # collect the answer\n",
      "    58         1       7250.0   7250.0      0.3      return -sum(w for w, r in lst), lst\n",
      "\n"
     ]
    }
   ],
   "source": [
    "# again, save the results object (via a `-r` switch)\n",
    "\n",
    "lstats = %lprun -r -f adapt_rect_list adapt_rect_list(func, a, b, 1000)\n",
    "\n",
    "lstats.print_stats()"
   ]
  },
  {
   "cell_type": "code",
   "execution_count": 9,
   "metadata": {
    "colab": {
     "base_uri": "https://localhost:8080/"
    },
    "id": "EZgSkkWwtxFH",
    "outputId": "908b34f2-6e35-41dc-c43c-b5ebb7d5357d"
   },
   "outputs": [
    {
     "name": "stdout",
     "output_type": "stream",
     "text": [
      "Timer unit: 1e-07 s\n",
      "\n",
      "Total time: 0.23534 s\n",
      "File: <ipython-input-2-d80a194c1915>\n",
      "Function: get_max_elem at line 11\n",
      "\n",
      "Line #      Hits         Time  Per Hit   % Time  Line Contents\n",
      "==============================================================\n",
      "    11                                           def get_max_elem(lst, key=None):\n",
      "    12                                               \"\"\"Find and remove the maximum element from the list.\n",
      "    13                                               \n",
      "    14                                               Find the max element (according to the parameter `key`,\n",
      "    15                                               which is a callable), remove it from the list, and\n",
      "    16                                               return both the element and the rest.\n",
      "    17                                               \"\"\"\n",
      "    18      1000       9071.0      9.1      0.4      if key is None:\n",
      "    19                                                   # use the identity function\n",
      "    20                                                   key = lambda x: x\n",
      "    21                                               \n",
      "    22                                               # find the max element\n",
      "    23      1000    2252198.0   2252.2     95.7      elem = max(lst, key=key)\n",
      "    24                                               \n",
      "    25                                               # find its position in the list\n",
      "    26      1000      20913.0     20.9      0.9      idx = lst.index(elem)\n",
      "    27                                               \n",
      "    28      1000      71222.0     71.2      3.0      return elem, lst[:idx] + lst[idx+1:]\n",
      "\n"
     ]
    }
   ],
   "source": [
    "# since we spend 90% of time in the `get_max_elem` function, profile it\n",
    "\n",
    "lstats = %lprun -r -f get_max_elem adapt_rect_list(func, a, b, 1000)\n",
    "\n",
    "lstats.print_stats()"
   ]
  },
  {
   "cell_type": "markdown",
   "metadata": {
    "id": "S7vHJtn9txFH"
   },
   "source": [
    "## The best optimization is often an algorithmic one\n",
    "\n",
    "The bottleneck is searching the largest weight interval. There is a data structure for it: priority queue. \n",
    "\n",
    "> In a priority queue, an element with high **priority** is served before an element with low **priority**.\n",
    "\n",
    "(Quote from Wikipedia)\n",
    "\n",
    "It's even implemented in the standard library module `heapq`: https://docs.python.org/3.8/library/heapq.html\n",
    "\n",
    "This way, you _push_ rectangles into the queue and _pop_ the largest weight one from it. \n",
    "(see `heapq.heappush` and `heapq.heappop` functions).\n",
    "\n",
    "## Exercise\n",
    "\n",
    "Implement the adaptive integration routine using the `heapq` module. \n",
    "- verify the result of your routine.\n",
    "- measure and plot running time vs number of intervals, compare to the naive rountine above.\n",
    "- line profile the result"
   ]
  },
  {
   "cell_type": "code",
   "execution_count": 10,
   "metadata": {
    "id": "WfTIQdYcw1b9"
   },
   "outputs": [],
   "source": [
    "from heapq import heapify, heappush, heappop"
   ]
  },
  {
   "cell_type": "code",
   "execution_count": 11,
   "metadata": {
    "id": "AC7YCmH7wbh8"
   },
   "outputs": [],
   "source": [
    "# A rectangle is (start, width)\n",
    "# A list element is (-weight, (start, width))\n",
    "   \n",
    "def adapt_rect_queue(f, a, b, npts):\n",
    "    \"\"\"Integrate f(x) from a to b using npts steps.\n",
    "    \n",
    "    Uses an adaptive algorithm.\n",
    "    \"\"\"\n",
    "    # create empty heap\n",
    "    lst = []\n",
    "    heapify(lst) \n",
    "\n",
    "    # start from a single rectangle\n",
    "    item = make_rect(a, b, f)\n",
    "    heappush(lst, item) #push in heap\n",
    "    \n",
    "    # loop\n",
    "    for _ in range(npts):\n",
    "        #get and remove the minimun element from the heap\n",
    "        rect = heappop(lst)\n",
    "\n",
    "        w, (start, width) = rect\n",
    "                \n",
    "        # and split it into two halves\n",
    "        c = start + width / 2.\n",
    "        \n",
    "        rect1 = make_rect(start, c, f)\n",
    "        rect2 = make_rect(c, start + width, f)\n",
    "\n",
    "        heappush(lst, rect1)\n",
    "        heappush(lst, rect2)\n",
    "        \n",
    "    # collect the answer\n",
    "    return -sum(w for w, r in lst), lst"
   ]
  },
  {
   "cell_type": "markdown",
   "metadata": {
    "id": "H1y9BxtJBZxh"
   },
   "source": [
    "## Протестируем правильность программы на функции из ноутбука integrals.ipynb: $f(x) = e^{-x}$, a = 0, b = 20"
   ]
  },
  {
   "cell_type": "markdown",
   "metadata": {
    "id": "a5SBTJzoDs96"
   },
   "source": [
    "**Используем изначальную реализацию:**"
   ]
  },
  {
   "cell_type": "code",
   "execution_count": 12,
   "metadata": {
    "colab": {
     "base_uri": "https://localhost:8080/"
    },
    "id": "pg0UgmR46rwE",
    "outputId": "90f00eb3-98a0-478b-d93a-2b036c570456"
   },
   "outputs": [
    {
     "name": "stdout",
     "output_type": "stream",
     "text": [
      "list: n, res =  5 0.9552698388347781\n",
      "list: n, res =  25 0.9786718962428081\n",
      "list: n, res =  125 0.9956502001607699\n",
      "list: n, res =  250 0.9959491604791242\n",
      "list: n, res =  500 0.9960027891786778\n",
      "list: n, res =  1000 0.9997391610745809\n",
      "list: n, res =  5000 0.999940521244624\n"
     ]
    }
   ],
   "source": [
    "def f(x):\n",
    "    return np.exp(-x)\n",
    "\n",
    "a, b = 0, 20\n",
    "\n",
    "for n in (5, 25, 125, 250, 500, 1000, 5000):\n",
    "    res, lst = adapt_rect_list(f, a, b, n)\n",
    "    print ('list: n, res = ', n, res)"
   ]
  },
  {
   "cell_type": "markdown",
   "metadata": {
    "id": "eVxIalg-D1zB"
   },
   "source": [
    "**Используем кучу:**"
   ]
  },
  {
   "cell_type": "code",
   "execution_count": 13,
   "metadata": {
    "colab": {
     "base_uri": "https://localhost:8080/"
    },
    "id": "O500D3Hr6yI0",
    "outputId": "058ca5b6-ba94-4cf7-e76e-82f4a38d7cb0"
   },
   "outputs": [
    {
     "name": "stdout",
     "output_type": "stream",
     "text": [
      "queue: n, res =  5 0.955269838834778\n",
      "queue: n, res =  25 0.978671896242808\n",
      "queue: n, res =  125 0.9956502001607697\n",
      "queue: n, res =  250 0.9959491604791236\n",
      "queue: n, res =  500 0.9960027891786782\n",
      "queue: n, res =  1000 0.9997391610745805\n",
      "queue: n, res =  5000 0.9999405212446223\n"
     ]
    }
   ],
   "source": [
    "for n in (5, 25, 125, 250, 500, 1000, 5000):\n",
    "    res, lst = adapt_rect_queue(f, a, b, n)\n",
    "    print ('queue: n, res = ', n, res)"
   ]
  },
  {
   "cell_type": "markdown",
   "metadata": {
    "id": "aMPXVlucD555"
   },
   "source": [
    "**Совпадает!**"
   ]
  },
  {
   "cell_type": "markdown",
   "metadata": {
    "id": "B6blo3iZFg0G"
   },
   "source": [
    "## Измерим время работы в зависимости от числа интервалов для изначальной реализации."
   ]
  },
  {
   "cell_type": "code",
   "execution_count": 14,
   "metadata": {
    "id": "SQqPBRqUB93K"
   },
   "outputs": [],
   "source": [
    "%matplotlib inline\n",
    "\n",
    "import matplotlib.pyplot as plt\n",
    "import seaborn as sns\n",
    "sns.set()"
   ]
  },
  {
   "cell_type": "code",
   "execution_count": 16,
   "metadata": {
    "id": "eH5nBqFEJ_oc"
   },
   "outputs": [],
   "source": [
    "import time \n",
    "\n",
    "def elapsed_time(alg, ns):\n",
    "    \"\"\"Функция для измерения времени работы алгоритма alg\n",
    "    в зависимости от числа интервалов ns.\n",
    "\n",
    "    Возвращает список усредненных значений пройденного времени\n",
    "    для каждого числа интервалов. \"\"\"\n",
    " \n",
    "    times = []\n",
    "    for n in ns:\n",
    "        all_time = 0\n",
    "        for _ in range(10): #пройдемся 10 раз для усреднения времени работы\n",
    "            start_time = time.time()\n",
    "            res, lst = alg(f, a, b, n)\n",
    "            end_time = time.time()\n",
    "            all_time += end_time - start_time\n",
    "        times.append(all_time / 10) \n",
    "    return times"
   ]
  },
  {
   "cell_type": "code",
   "execution_count": 17,
   "metadata": {
    "id": "Lx72Tp6tB98O"
   },
   "outputs": [],
   "source": [
    "ns = [5, 10, 20, 25, 50, 100, 200, 250, 500, 750, 1000, 1500, 2000, 2500, 3500, 5000]\n",
    "\n",
    "times_for_list = elapsed_time(adapt_rect_list, ns)"
   ]
  },
  {
   "cell_type": "code",
   "execution_count": 18,
   "metadata": {
    "colab": {
     "base_uri": "https://localhost:8080/",
     "height": 318
    },
    "id": "I_fuF1ekB950",
    "outputId": "94c8bb8d-9e01-460a-a15f-385b55ac839f"
   },
   "outputs": [
    {
     "data": {
      "text/plain": [
       "Text(0.5, 1.0, 'Время работы адапт. алг в зав. от n для изн. реализации')"
      ]
     },
     "execution_count": 18,
     "metadata": {},
     "output_type": "execute_result"
    },
    {
     "data": {
      "image/png": "[encoded data removed]",
      "text/plain": [
       "<Figure size 432x288 with 1 Axes>"
      ]
     },
     "metadata": {},
     "output_type": "display_data"
    }
   ],
   "source": [
    "plt.plot(ns, times_for_list)\n",
    "plt.xlabel('n')\n",
    "plt.ylabel('t, s')\n",
    "plt.title('Время работы адапт. алг в зав. от n для изн. реализации')"
   ]
  },
  {
   "cell_type": "markdown",
   "metadata": {
    "id": "Wi6xrzplZrda"
   },
   "source": [
    "**Зависимость выглядит как квадратичная. Проверим это с помощью curve_fit из scipy.optimize.**"
   ]
  },
  {
   "cell_type": "code",
   "execution_count": 19,
   "metadata": {
    "id": "rx0VurQnZ5UW"
   },
   "outputs": [],
   "source": [
    "from scipy.optimize import curve_fit"
   ]
  },
  {
   "cell_type": "code",
   "execution_count": 20,
   "metadata": {
    "id": "lcnaTJo3aHRJ"
   },
   "outputs": [],
   "source": [
    "def approximated(x, y):\n",
    "    c, _ = curve_fit(square_func, x, y)    \n",
    "    return square_func(x, c), c\n",
    "    \n",
    "def square_func(x, c):\n",
    "    return c * x ** 2 "
   ]
  },
  {
   "cell_type": "code",
   "execution_count": 21,
   "metadata": {
    "id": "lH8Uzta6bvea"
   },
   "outputs": [],
   "source": [
    "times_for_list = np.array(times_for_list)\n",
    "ns = np.array(ns)"
   ]
  },
  {
   "cell_type": "code",
   "execution_count": 22,
   "metadata": {
    "id": "LCGQMcMda30o"
   },
   "outputs": [],
   "source": [
    "times_appr, c = approximated(ns, times_for_list)"
   ]
  },
  {
   "cell_type": "code",
   "execution_count": 23,
   "metadata": {
    "colab": {
     "base_uri": "https://localhost:8080/",
     "height": 318
    },
    "id": "uvGz6Lzzcdzt",
    "outputId": "35f94483-7862-4087-e006-3aca5451ec22"
   },
   "outputs": [
    {
     "data": {
      "text/plain": [
       "<matplotlib.legend.Legend at 0x1460ffd7dc8>"
      ]
     },
     "execution_count": 23,
     "metadata": {},
     "output_type": "execute_result"
    },
    {
     "data": {
      "image/png": "[encoded data removed]",
      "text/plain": [
       "<Figure size 432x288 with 1 Axes>"
      ]
     },
     "metadata": {},
     "output_type": "display_data"
    }
   ],
   "source": [
    "plt.plot(ns, times_for_list)\n",
    "plt.plot(ns, times_appr)\n",
    "\n",
    "plt.xlabel('n')\n",
    "plt.ylabel('t, s')\n",
    "plt.title('Время работы адапт. алг. в зав. от n для изн. реализации')\n",
    "plt.legend(['True', 'Appr.'])"
   ]
  },
  {
   "cell_type": "markdown",
   "metadata": {
    "id": "pRX07atIeUGf"
   },
   "source": [
    "**Действительно, зависимость квадратичная!**"
   ]
  },
  {
   "cell_type": "code",
   "execution_count": 24,
   "metadata": {
    "id": "jmpr34gbHtJ5"
   },
   "outputs": [],
   "source": [
    "times_for_queue = elapsed_time(adapt_rect_queue, ns)"
   ]
  },
  {
   "cell_type": "code",
   "execution_count": 25,
   "metadata": {
    "colab": {
     "base_uri": "https://localhost:8080/",
     "height": 318
    },
    "id": "Mawx9DlSHxyZ",
    "outputId": "b6118d65-7965-4643-9b72-39a902f14699"
   },
   "outputs": [
    {
     "data": {
      "text/plain": [
       "Text(0.5, 1.0, 'Время работы адапт. алг. в зав. от n для реализации с кучей')"
      ]
     },
     "execution_count": 25,
     "metadata": {},
     "output_type": "execute_result"
    },
    {
     "data": {
      "image/png": "[encoded data removed]",
      "text/plain": [
       "<Figure size 432x288 with 1 Axes>"
      ]
     },
     "metadata": {},
     "output_type": "display_data"
    }
   ],
   "source": [
    "plt.plot(ns, times_for_queue)\n",
    "plt.xlabel('n')\n",
    "plt.ylabel('t, s')\n",
    "plt.title('Время работы адапт. алг. в зав. от n для реализации с кучей')"
   ]
  },
  {
   "cell_type": "markdown",
   "metadata": {
    "id": "aKJaoCDoZoVP"
   },
   "source": [
    "**Зависимость линейная.**"
   ]
  },
  {
   "cell_type": "markdown",
   "metadata": {
    "id": "2Ytmpi5Ve2Eq"
   },
   "source": [
    "# Проведем line level profiling"
   ]
  },
  {
   "cell_type": "markdown",
   "metadata": {
    "id": "M_5pXHNifHE1"
   },
   "source": [
    "**Посмотрим, какая строчка теперь является самой дорогой по времени:**"
   ]
  },
  {
   "cell_type": "code",
   "execution_count": 26,
   "metadata": {
    "colab": {
     "base_uri": "https://localhost:8080/"
    },
    "id": "3cZ6zvkIATl3",
    "outputId": "c3915e5d-2fb7-4279-9deb-1dad0a8f105e"
   },
   "outputs": [
    {
     "name": "stdout",
     "output_type": "stream",
     "text": [
      "Timer unit: 1e-07 s\n",
      "\n",
      "Total time: 0.0178688 s\n",
      "File: <ipython-input-11-087f8dd2030f>\n",
      "Function: adapt_rect_queue at line 4\n",
      "\n",
      "Line #      Hits         Time  Per Hit   % Time  Line Contents\n",
      "==============================================================\n",
      "     4                                           def adapt_rect_queue(f, a, b, npts):\n",
      "     5                                               \"\"\"Integrate f(x) from a to b using npts steps.\n",
      "     6                                               \n",
      "     7                                               Uses an adaptive algorithm.\n",
      "     8                                               \"\"\"\n",
      "     9                                               # create empty heap\n",
      "    10         1         16.0     16.0      0.0      lst = []\n",
      "    11         1         14.0     14.0      0.0      heapify(lst) \n",
      "    12                                           \n",
      "    13                                               # start from a single rectangle\n",
      "    14         1        247.0    247.0      0.1      item = make_rect(a, b, f)\n",
      "    15         1         10.0     10.0      0.0      heappush(lst, item) #push in heap\n",
      "    16                                               \n",
      "    17                                               # loop\n",
      "    18      1001       5526.0      5.5      3.1      for _ in range(npts):\n",
      "    19                                                   #get and remove the minimun element from the heap\n",
      "    20      1000      14914.0     14.9      8.3          rect = heappop(lst)\n",
      "    21                                           \n",
      "    22      1000       7514.0      7.5      4.2          w, (start, width) = rect\n",
      "    23                                                           \n",
      "    24                                                   # and split it into two halves\n",
      "    25      1000       6674.0      6.7      3.7          c = start + width / 2.\n",
      "    26                                                   \n",
      "    27      1000      63806.0     63.8     35.7          rect1 = make_rect(start, c, f)\n",
      "    28      1000      56260.0     56.3     31.5          rect2 = make_rect(c, start + width, f)\n",
      "    29                                           \n",
      "    30      1000      10356.0     10.4      5.8          heappush(lst, rect1)\n",
      "    31      1000       8833.0      8.8      4.9          heappush(lst, rect2)\n",
      "    32                                                   \n",
      "    33                                               # collect the answer\n",
      "    34         1       4518.0   4518.0      2.5      return -sum(w for w, r in lst), lst\n",
      "\n"
     ]
    }
   ],
   "source": [
    "lstats = %lprun -r -f adapt_rect_queue adapt_rect_queue(func, a, b, 1000)\n",
    "\n",
    "lstats.print_stats()"
   ]
  },
  {
   "cell_type": "markdown",
   "metadata": {
    "id": "TQsVdSrSfISJ"
   },
   "source": [
    "**Видно, что теперь это не поиск максимума, а создание прямоугольника. Можем также посмотреть выполнение какой именно строчки make_rect() занимает основное время**"
   ]
  },
  {
   "cell_type": "code",
   "execution_count": 27,
   "metadata": {
    "colab": {
     "base_uri": "https://localhost:8080/"
    },
    "id": "6l_MFXlWPy8W",
    "outputId": "397b045f-0f0f-4883-fbb3-c796005a3b29"
   },
   "outputs": [
    {
     "name": "stdout",
     "output_type": "stream",
     "text": [
      "Timer unit: 1e-07 s\n",
      "\n",
      "Total time: 0.0123409 s\n",
      "File: <ipython-input-2-d80a194c1915>\n",
      "Function: make_rect at line 4\n",
      "\n",
      "Line #      Hits         Time  Per Hit   % Time  Line Contents\n",
      "==============================================================\n",
      "     4                                           def make_rect(a, b, f):\n",
      "     5                                               \"\"\"Make a rectangle for the interval [a, b]\"\"\"\n",
      "     6      2001      13075.0      6.5     10.6      rect = (a, b-a)\n",
      "     7      2001      12044.0      6.0      9.8      xm = a + rect[1] / 2.\n",
      "     8      2001      98290.0     49.1     79.6      return (-f(xm) * rect[1], rect)\n",
      "\n"
     ]
    }
   ],
   "source": [
    "lstats = %lprun -r -f make_rect adapt_rect_queue(func, a, b, 1000)\n",
    "\n",
    "lstats.print_stats()"
   ]
  },
  {
   "cell_type": "markdown",
   "metadata": {
    "id": "CHUxFa3yfffg"
   },
   "source": [
    "**Собственно, это вычисления, которые мы уже вряд ли сможем сильно ускорить, так как они происходят на уровне numpy.**"
   ]
  },
  {
   "cell_type": "markdown",
   "metadata": {
    "collapsed": true,
    "id": "GUrUUbhJtxFH"
   },
   "source": [
    "## Further reading\n",
    "\n",
    "1. [cProfile] Doug Hellmann, *profile and pstats — Performance Analysis*, https://pymotw.com/3/profile/\n",
    "\n",
    "2. [line_profiler] Robert Kern, *Line profiler documentation*, https://github.com/rkern/line_profiler\n",
    "\n",
    "3. [yep] Fabian Pedregosa, *Profiling in Python*, http://www.slideshare.net/FabianPedregosa/profiling-in-python-54685566\n",
    "\n",
    "Note however that `yep` is reported to not work under Windows. However I personally have had a very good experience using it (on Linux systems) when writing extension modules in C/C++."
   ]
  },
  {
   "cell_type": "code",
   "execution_count": null,
   "metadata": {
    "id": "xJna_qeWtxFH"
   },
   "outputs": [],
   "source": []
  }
 ],
 "metadata": {
  "colab": {
   "name": "profiling_only.ipynb",
   "provenance": []
  },
  "kernelspec": {
   "display_name": "Python 3",
   "language": "python",
   "name": "python3"
  },
  "language_info": {
   "codemirror_mode": {
    "name": "ipython",
    "version": 3
   },
   "file_extension": ".py",
   "mimetype": "text/x-python",
   "name": "python",
   "nbconvert_exporter": "python",
   "pygments_lexer": "ipython3",
   "version": "3.7.7"
  }
 },
 "nbformat": 4,
 "nbformat_minor": 1
}
